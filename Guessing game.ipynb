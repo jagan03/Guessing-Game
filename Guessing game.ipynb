{
 "cells": [
  {
   "cell_type": "code",
   "execution_count": 5,
   "metadata": {},
   "outputs": [
    {
     "name": "stdout",
     "output_type": "stream",
     "text": [
      "May i know your name? Jagan\n",
      "Hello Jagan.\n",
      "Are you ready to Guess? [Y/N] y\n",
      "I'm thinking of a number between 1 & 10\n",
      "What's your Guess? 3\n",
      "No! Guess Higher\n",
      "What's your Guess? 7\n",
      "No, Guess Lower\n",
      "What's your Guess? 5\n",
      "No, Guess Lower\n",
      "What's your Guess? 6\n",
      "No, Guess Lower\n",
      "What's your Guess? 4\n",
      "Brilliant\n",
      "Congrats, Your Guess was correct. The number was indeed 4.\n",
      "It has taken you 5 tries\n"
     ]
    }
   ],
   "source": [
    "import random\n",
    "guess = 0\n",
    "tries = 0\n",
    "number = random.randint(1,10)\n",
    "name = input(\"May i know your name? \")\n",
    "print(\"Hello \"+name+\".\")\n",
    "\n",
    "question = input(\"Are you ready to Guess? [Y/N] \")\n",
    "if question.lower() == 'n':\n",
    "    print(\"I'm sorry, we'll meet each other next time! \")\n",
    "    exit()\n",
    "if question.lower() == 'y':\n",
    "    print(\"I'm thinking of a number between 1 & 10\")\n",
    "while not(guess == number):\n",
    "    guess = int(input(\"What's your Guess? \"))\n",
    "    tries = tries + 1\n",
    "    if guess == number:\n",
    "        print(\"Brilliant\")\n",
    "        print(\"Congrats, Your Guess was correct. The number was indeed {}.\".format(number))\n",
    "        print(\"It has taken you {} tries\".format(tries))\n",
    "    elif guess < number:\n",
    "        print(\"No! Guess Higher\")\n",
    "    elif guess > number:\n",
    "        print(\"No, Guess Lower\")"
   ]
  },
  {
   "cell_type": "code",
   "execution_count": null,
   "metadata": {},
   "outputs": [],
   "source": []
  }
 ],
 "metadata": {
  "kernelspec": {
   "display_name": "Python 3",
   "language": "python",
   "name": "python3"
  },
  "language_info": {
   "codemirror_mode": {
    "name": "ipython",
    "version": 3
   },
   "file_extension": ".py",
   "mimetype": "text/x-python",
   "name": "python",
   "nbconvert_exporter": "python",
   "pygments_lexer": "ipython3",
   "version": "3.8.3"
  }
 },
 "nbformat": 4,
 "nbformat_minor": 4
}
